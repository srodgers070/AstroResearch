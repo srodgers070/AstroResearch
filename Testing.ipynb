{
 "cells": [
  {
   "cell_type": "code",
   "execution_count": 1,
   "metadata": {},
   "outputs": [],
   "source": [
    "import sqlite3 as slt\n",
    "import numpy as np\n",
    "import io\n",
    "\n",
    "def adapt_array(arr):\n",
    "    out = io.BytesIO()\n",
    "    np.save(out, arr)\n",
    "    out.seek(0)\n",
    "    return slt.Binary(out.read())\n",
    "def convert_array(text):\n",
    "    out = io.BytesIO(text)\n",
    "    out.seek(0)\n",
    "    return np.load(out)\n",
    "\n",
    "\n",
    "# Converts np.array to TEXT when inserting\n",
    "slt.register_adapter(np.ndarray, adapt_array)\n",
    "\n",
    "# Converts TEXT to np.array when selecting\"\n",
    "slt.register_converter(\"array\", convert_array)\n",
    "\n",
    "\n",
    "\n",
    "##Add a plotting script\n",
    "def PlotFrequencies(Frequencies, FitData,target):\n",
    "    import numpy as np\n",
    "    import matplotlib.pyplot as plt\n",
    "    ##add title, increase font sizes\n",
    "    ## label axes\n",
    "    plt.figure(figsize=(10,10))\n",
    "    plt.plot(Frequencies, FitData)\n",
    "    plt.title('%s'%target, fontsize=18)\n",
    "    plt.xlabel('Frequencies',fontsize=14)\n",
    "    plt.ylabel('Y-Yfit', fontsize=14)\n",
    "    plt.axhline(y=0,ls='--',linewidth=2,c='k')\n",
    "    plt.show()\n",
    "        \n",
    "\n",
    "        \n",
    "        \n",
    "        \n",
    "        \n",
    "\n",
    "\n",
    "#Loading Data from files you have on YOUR DESKTOP.   \n",
    "def B1LoadTargetData(target):\n",
    "    import numpy as np\n",
    "    print(\"Loading data for %s Board 1...\" %target)\n",
    "    try:\n",
    "        destination=target+'/Board1ReducedData.txt'\n",
    "        print(destination)\n",
    "        full_data1=np.loadtxt(destination)\n",
    "        Frequencies1=full_data1[:,0]\n",
    "        AvgYData1=full_data1[:,1]\n",
    "        SmoothedData1=full_data1[:,2]\n",
    "        Velocities1=full_data1[:,3]\n",
    "        print(\"Data successfully loaded!\")\n",
    "        print()\n",
    "    except IOError:\n",
    "        print(\"File does not exist\")\n",
    "    return full_data1, Frequencies1, AvgYData1, SmoothedData1, Velocities1\n",
    "\n",
    "def B2LoadTargetData(target):\n",
    "    import numpy as np\n",
    "    print(\"Loading data for %s Board 2...\" %target)\n",
    "    try:\n",
    "        destination=target+'/Board2ReducedData.txt'\n",
    "        print(destination)\n",
    "        full_data2=np.loadtxt(destination)\n",
    "        Frequencies2=full_data2[:,0]\n",
    "        AvgYData2=full_data2[:,1]\n",
    "        SmoothedData2=full_data2[:,2]\n",
    "        Velocities2=full_data2[:,3]\n",
    "        print(\"Data successfully loaded!\")\n",
    "        print()\n",
    "    except IOError:\n",
    "        print(\"File does not exist\")\n",
    "    return full_data2, Frequencies2, AvgYData2, SmoothedData2, Velocities2\n",
    "\n",
    "           \n",
    "        \n",
    "        \n",
    "        \n",
    "#Connection and Checking the db       \n",
    "        \n",
    "def connect(database):\n",
    "    ## When using ConnectDB you MUST format it as cur=ConnectDB\n",
    "    con = None\n",
    "    try:\n",
    "        con= slt.connect(\"%s\"%database, detect_types=slt.PARSE_DECLTYPES)\n",
    "        cur = con.cursor()\n",
    "    except Error as e:\n",
    "        print(e)\n",
    "    return cur\n",
    "def TableChecker(cur):\n",
    "    #This checks to see what tables exist in the database, they are returned as a \n",
    "    cur.execute(\"select name from sqlite_master where type='table'\")\n",
    "    print(\"The tables present are: \\n\" , *cur.fetchall(), sep=\"\\n\")\n",
    "\n",
    "    \n",
    "\n",
    "#Writing data to the database ONLY WORKS IF TABLE DOES NOT ALREADY EXIST  \n",
    "def AddReducedData(cur, target):\n",
    "    #Check for table already exists\n",
    "    full_data1, Frequencies1, AvgYData1, SmoothedData1, Velocities1 = B1LoadTargetData(target)\n",
    "    full_data2, Frequencies2, AvgYData2, SmoothedData2, Velocities2 = B2LoadTargetData(target)\n",
    "    try:\n",
    "        print('Connected to database, will now upload data to specified table...')\n",
    "        tablename=target+\"_ReducedDataBoard1\"\n",
    "        cur.execute(\"create table \"+ tablename +\" (freq array, avgY array, smo array, vel array)\")\n",
    "        cur.execute(\"insert into \" + tablename + \" (freq, avgY, smo, vel) values (?,?,?,?)\" ,\n",
    "                    (Frequencies1, AvgYData1, SmoothedData1, Velocities1)) #data inserted\n",
    "        print(\"Board 1 has been added to database, moving to board 2...\")\n",
    "        print()\n",
    "        #now we do board2\n",
    "        tablename2=target+\"_ReducedDataBoard2\"\n",
    "        cur.execute(\"create table \"+ tablename2 +\" (freq array, avgY array, smo array, vel array)\")\n",
    "        cur.execute(\"insert into \" + tablename2 + \" (freq, avgY, smo, vel) values (?,?,?,?)\" ,\n",
    "                    (Frequencies2, AvgYData2, SmoothedData2, Velocities2)) #data inserted\n",
    "        print('Board 2 has been added to database.')\n",
    "        print(\"AddReducedData is complete, closing connection to database\")\n",
    "        print()\n",
    "    except slt.Error as error:\n",
    "        print(error)    \n",
    "    \n",
    "    \n",
    "    \n",
    "    \n",
    "def UpdateData(cur,database, target):\n",
    "    cur.execute(\"UPDATE %s\"%database+\".%s\"%target)\n",
    "    \n",
    "    \n",
    "### Getting Data from the database   \n",
    "def GrabReducedData(cur, target, board):\n",
    "    try:\n",
    "        print('Connected to database, will now grab data...')\n",
    "        table=target+\"_ReducedDataBoard\"+\"%s\"%board\n",
    "        cur.execute(\"select * from '%s' \"%table)##call our data from the database \n",
    "        data=cur.fetchall()\n",
    "        data=np.transpose(data)\n",
    "        print('data loaded...')\n",
    "    except slt.Error as error:\n",
    "        print(\"Failed to find table\", error)\n",
    "        \n",
    "    return data        \n",
    "            \n",
    "    \n",
    "    \n",
    "    \n",
    "#DOING THINGS WITH THE DATA\n",
    "def QuickFreqPlot(cur,target,board):\n",
    "    try:\n",
    "        print('Connected to database, will now grab data...')\n",
    "        tablename=target+\"_ReducedDataBoard\"+board\n",
    "        cur.execute(\"select * from '%s' \"%tablename)##call our data from the database \n",
    "        data=cur.fetchone()\n",
    "        data=np.transpose(data)\n",
    "        PlotFrequencies(data[0],data[1],'%s'%target)\n",
    "        print('data loaded...')\n",
    "    except slt.Error as error:\n",
    "        print(error)\n",
    "    "
   ]
  },
  {
   "cell_type": "code",
   "execution_count": 14,
   "metadata": {},
   "outputs": [],
   "source": [
    "cur=connect(\"NewTest2.db\")"
   ]
  },
  {
   "cell_type": "code",
   "execution_count": 7,
   "metadata": {},
   "outputs": [
    {
     "name": "stdout",
     "output_type": "stream",
     "text": [
      "The tables present are: \n",
      "\n"
     ]
    }
   ],
   "source": [
    "TableChecker(cur)"
   ]
  },
  {
   "cell_type": "code",
   "execution_count": 8,
   "metadata": {},
   "outputs": [
    {
     "name": "stdout",
     "output_type": "stream",
     "text": [
      "Loading data for D4 Board 1...\n",
      "D4/Board1ReducedData.txt\n",
      "Data successfully loaded!\n",
      "\n",
      "Loading data for D4 Board 2...\n",
      "D4/Board2ReducedData.txt\n",
      "Data successfully loaded!\n",
      "\n"
     ]
    }
   ],
   "source": [
    "full_data1, Frequencies1, AvgYData1, SmoothedData1, Velocities1 = B1LoadTargetData(\"D4\")\n",
    "full_data2, Frequencies2, AvgYData2, SmoothedData2, Velocities2 = B2LoadTargetData(\"D4\")"
   ]
  },
  {
   "cell_type": "code",
   "execution_count": 20,
   "metadata": {},
   "outputs": [
    {
     "name": "stdout",
     "output_type": "stream",
     "text": [
      "[0.66759092 0.33928442 0.21674994 ... 0.2617304  0.2598843  0.25966528]\n"
     ]
    }
   ],
   "source": [
    "print(np.transpose(AvgYData2))\n",
    "target=\"D4\""
   ]
  },
  {
   "cell_type": "code",
   "execution_count": 10,
   "metadata": {},
   "outputs": [
    {
     "name": "stdout",
     "output_type": "stream",
     "text": [
      "Connected to database, will now upload data to specified table...\n",
      "Board 1 has been added to database, moving to board 2...\n",
      "\n",
      "Board 2 has been added to database.\n",
      "AddReducedData is complete, closing connection to database\n",
      "\n"
     ]
    }
   ],
   "source": [
    "try:\n",
    "    print('Connected to database, will now upload data to specified table...')\n",
    "    tablename=target+\"_ReducedDataBoard1\"\n",
    "    cur.execute(\"create table \"+ tablename +\" (freq array, avgY array, smo array, vel array)\")\n",
    "    cur.execute(\"insert into \" + tablename + \" (freq, avgY, smo, vel) values (?,?,?,?)\" ,(Frequencies1, AvgYData1, SmoothedData1, Velocities1)) #data inserted\n",
    "    print(\"Board 1 has been added to database, moving to board 2...\")\n",
    "    print()\n",
    "    #now we do board2\n",
    "except slt.Error as error:\n",
    "    print(error)"
   ]
  },
  {
   "cell_type": "code",
   "execution_count": 40,
   "metadata": {},
   "outputs": [
    {
     "name": "stdout",
     "output_type": "stream",
     "text": [
      "The tables present are: \n",
      "\n",
      "('D4_ReducedDataBoard1',)\n",
      "('D4_ReducedDataBoard2',)\n",
      "('Potato_ReducedDataBoard2',)\n"
     ]
    }
   ],
   "source": [
    "TableChecker(cur)\n",
    "cur.connection.total_changes?"
   ]
  },
  {
   "cell_type": "code",
   "execution_count": 21,
   "metadata": {},
   "outputs": [
    {
     "name": "stdout",
     "output_type": "stream",
     "text": [
      "Connected to database, will now upload data to specified table...\n",
      "Board 2 has been added to database.\n",
      "AddReducedData is complete, closing connection to database\n",
      "\n"
     ]
    }
   ],
   "source": [
    "target=\"Potato\"\n",
    "try:\n",
    "    print('Connected to database, will now upload data to specified table...')\n",
    "    tablename2=target+\"_ReducedDataBoard2\"\n",
    "    cur.execute(\"create table \"+ tablename2 +\" (freq array, avgY array, smo array, vel array)\")\n",
    "    cur.execute(\"insert into \" + tablename2 + \" (freq, avgY, smo, vel) values (?,?,?,?)\" ,(Frequencies2, AvgYData2, SmoothedData2, Velocities2)) #data inserted\n",
    "    print('Board 2 has been added to database.')\n",
    "    print(\"AddReducedData is complete, closing connection to database\")\n",
    "    print()\n",
    "except slt.Error as error:\n",
    "    print(error)"
   ]
  },
  {
   "cell_type": "code",
   "execution_count": 33,
   "metadata": {},
   "outputs": [
    {
     "name": "stdout",
     "output_type": "stream",
     "text": [
      "[[1.28863479e+03 6.67590916e-01 4.79926348e-01 3.06244869e+04]\n",
      " [1.28864700e+03 3.39284420e-01 4.29668128e-01 3.06213569e+04]\n",
      " [1.28865920e+03 2.16749936e-01 3.80113363e-01 3.06182270e+04]\n",
      " ...\n",
      " [1.33859817e+03 2.61730403e-01 2.60527849e-01 1.82916245e+04]\n",
      " [1.33861037e+03 2.59884298e-01 2.60437310e-01 1.82887238e+04]\n",
      " [1.33862258e+03 2.59665281e-01 2.60349482e-01 1.82858232e+04]]\n"
     ]
    }
   ],
   "source": [
    "cur.execute(\"SELECT * FROM Potato_ReducedDataBoard2\")\n",
    "data=cur.fetchone()\n",
    "data=np.transpose(data)\n",
    "print(data)"
   ]
  },
  {
   "cell_type": "code",
   "execution_count": 34,
   "metadata": {},
   "outputs": [
    {
     "name": "stdout",
     "output_type": "stream",
     "text": [
      "[[1.28863479e+03 6.67590916e-01 4.79926348e-01 3.06244869e+04]\n",
      " [1.28864700e+03 3.39284420e-01 4.29668128e-01 3.06213569e+04]\n",
      " [1.28865920e+03 2.16749936e-01 3.80113363e-01 3.06182270e+04]\n",
      " ...\n",
      " [1.33859817e+03 2.61730403e-01 2.60527849e-01 1.82916245e+04]\n",
      " [1.33861037e+03 2.59884298e-01 2.60437310e-01 1.82887238e+04]\n",
      " [1.33862258e+03 2.59665281e-01 2.60349482e-01 1.82858232e+04]]\n"
     ]
    }
   ],
   "source": [
    "cur.execute(\"SELECT * FROM D4_ReducedDataBoard2\")\n",
    "data2=cur.fetchone()\n",
    "data2=np.transpose(data2)\n",
    "print(data2)"
   ]
  },
  {
   "cell_type": "code",
   "execution_count": 46,
   "metadata": {},
   "outputs": [
    {
     "name": "stdout",
     "output_type": "stream",
     "text": [
      "The tables present are: \n",
      "\n",
      "('D4_ReducedDataBoard1',)\n",
      "('D4_ReducedDataBoard2',)\n",
      "('Potato_ReducedDataBoard2',)\n"
     ]
    }
   ],
   "source": [
    "import DataBase as db\n",
    "cur2=db.connect(\"NewTest2.db\")\n",
    "db.TableChecker(cur)\n",
    "cur.connection.commit()"
   ]
  },
  {
   "cell_type": "code",
   "execution_count": 51,
   "metadata": {},
   "outputs": [
    {
     "ename": "OperationalError",
     "evalue": "near \"values\": syntax error",
     "output_type": "error",
     "traceback": [
      "\u001b[0;31m---------------------------------------------------------------------------\u001b[0m",
      "\u001b[0;31mOperationalError\u001b[0m                          Traceback (most recent call last)",
      "\u001b[0;32m<ipython-input-51-b8396e010e28>\u001b[0m in \u001b[0;36m<module>\u001b[0;34m\u001b[0m\n\u001b[1;32m      1\u001b[0m \u001b[0mcur\u001b[0m\u001b[0;34m.\u001b[0m\u001b[0mexecute\u001b[0m\u001b[0;34m(\u001b[0m\u001b[0;34m\"SELECT * FROM Potato_ReducedDataBoard2\"\u001b[0m\u001b[0;34m)\u001b[0m\u001b[0;34m\u001b[0m\u001b[0;34m\u001b[0m\u001b[0m\n\u001b[0;32m----> 2\u001b[0;31m cur.execute('''UPDATE Potato_ReducedDataBoard2\n\u001b[0m\u001b[1;32m      3\u001b[0m                SET (freq, avgY, smo, vel) values (?,?,?,?)''',(Frequencies1, AvgYData1, SmoothedData1, Velocities1))\n",
      "\u001b[0;31mOperationalError\u001b[0m: near \"values\": syntax error"
     ]
    }
   ],
   "source": [
    "cur.execute(\"SELECT * FROM Potato_ReducedDataBoard2\")\n",
    "cur.execute('''UPDATE NewTest2.db.Potato_ReducedDataBoard2 SET (freq, avgY, smo, vel) values (?,?,?,?)''',(Frequencies1, AvgYData1, SmoothedData1, Velocities1))"
   ]
  },
  {
   "cell_type": "code",
   "execution_count": null,
   "metadata": {},
   "outputs": [],
   "source": []
  }
 ],
 "metadata": {
  "kernelspec": {
   "display_name": "Python 3",
   "language": "python",
   "name": "python3"
  },
  "language_info": {
   "codemirror_mode": {
    "name": "ipython",
    "version": 3
   },
   "file_extension": ".py",
   "mimetype": "text/x-python",
   "name": "python",
   "nbconvert_exporter": "python",
   "pygments_lexer": "ipython3",
   "version": "3.8.3"
  }
 },
 "nbformat": 4,
 "nbformat_minor": 4
}
